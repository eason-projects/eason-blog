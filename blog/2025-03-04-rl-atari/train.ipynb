{
 "cells": [
  {
   "cell_type": "code",
   "execution_count": null,
   "id": "6b901519-3b3d-4b03-8689-ced0ffb9b46f",
   "metadata": {},
   "outputs": [],
   "source": [
    "!sudo apt-get update"
   ]
  },
  {
   "cell_type": "code",
   "execution_count": null,
   "id": "93f2e34b-c154-48b0-ab9d-c45113f3dfe1",
   "metadata": {},
   "outputs": [],
   "source": [
    "!sudo apt-get install -y zlib1g-dev"
   ]
  },
  {
   "cell_type": "code",
   "execution_count": null,
   "id": "cce7ef24",
   "metadata": {},
   "outputs": [],
   "source": []
  },
  {
   "cell_type": "code",
   "execution_count": null,
   "id": "07b7e426",
   "metadata": {},
   "outputs": [],
   "source": []
  },
  {
   "cell_type": "code",
   "execution_count": null,
   "id": "cfc937fa-dbfa-49dc-9e9b-e7bafcc2b7e8",
   "metadata": {},
   "outputs": [],
   "source": [
    "!sudo apt-get install -y libsdl2-dev"
   ]
  },
  {
   "cell_type": "code",
   "execution_count": null,
   "id": "8f2939cb-824b-4267-aa26-4245b1598cb0",
   "metadata": {},
   "outputs": [],
   "source": [
    "!pip install gymnasium[all] ale-py"
   ]
  },
  {
   "cell_type": "code",
   "execution_count": null,
   "id": "75371afb-f36b-421c-95e2-eb20e011a713",
   "metadata": {},
   "outputs": [],
   "source": [
    "!AutoROM -y --install-dir /opt/conda/lib/python3.11/site-packages/ale_py/roms/"
   ]
  },
  {
   "cell_type": "code",
   "execution_count": null,
   "id": "9a58842a-31b9-4c3a-a895-3e0da000b437",
   "metadata": {},
   "outputs": [],
   "source": [
    "import gymnasium as gym\n",
    "import ale_py"
   ]
  },
  {
   "cell_type": "code",
   "execution_count": null,
   "id": "ab257560-faa4-44ea-b244-0a5956a65f2c",
   "metadata": {},
   "outputs": [],
   "source": [
    "gym.register_envs(ale_py)"
   ]
  },
  {
   "cell_type": "code",
   "execution_count": null,
   "id": "916fea35-f348-442f-b82f-3638f2bbb85b",
   "metadata": {},
   "outputs": [],
   "source": [
    "# Initialise the environment\n",
    "env = gym.make(\"ALE/Breakout-v5\", render_mode=\"rgb_array\")"
   ]
  },
  {
   "cell_type": "code",
   "execution_count": null,
   "id": "340a347a-8585-4ec1-914b-759a4bbd45aa",
   "metadata": {},
   "outputs": [],
   "source": [
    "# Reset the environment to generate the first observation\n",
    "observation, info = env.reset(seed=42)\n",
    "for _ in range(1000):\n",
    "    # this is where you would insert your policy\n",
    "    action = env.action_space.sample()\n",
    "\n",
    "    # step (transition) through the environment with the action\n",
    "    # receiving the next observation, reward and if the episode has terminated or truncated\n",
    "    observation, reward, terminated, truncated, info = env.step(action)\n",
    "\n",
    "    # If the episode has ended then we can reset to start a new episode\n",
    "    if terminated or truncated:\n",
    "        observation, info = env.reset()\n",
    "\n",
    "env.close()"
   ]
  },
  {
   "cell_type": "code",
   "execution_count": null,
   "id": "3572a3d7-f6fc-4e42-9187-db709749b8d0",
   "metadata": {},
   "outputs": [],
   "source": [
    "observation, reward, terminated, truncated, info = env.step(action)\n"
   ]
  },
  {
   "cell_type": "markdown",
   "id": "59def954-a5b1-4727-b204-8ee77445faa4",
   "metadata": {},
   "source": [
    "## RL Zoo"
   ]
  },
  {
   "cell_type": "code",
   "execution_count": null,
   "id": "496a7c17-b9b4-4d55-9822-eac5fb6e28c2",
   "metadata": {},
   "outputs": [],
   "source": [
    "!pip install rl_zoo3"
   ]
  },
  {
   "cell_type": "code",
   "execution_count": null,
   "id": "d530feec-7c32-4aee-81bb-1b2d061e0332",
   "metadata": {},
   "outputs": [],
   "source": [
    "!pip install opencv-python"
   ]
  },
  {
   "cell_type": "code",
   "execution_count": null,
   "id": "7f958aff-dcbb-48a3-a664-6c91c16789e2",
   "metadata": {},
   "outputs": [],
   "source": [
    "!python -m rl_zoo3.train --algo ppo --env ALE/Breakout-v5 \\\n",
    "    --env-kwargs frameskip:1 repeat_action_probability:0 \\\n",
    "    --hyperparams n_envs:16 n_timesteps:100000000 \\\n",
    "    --n-eval-envs 1 \\\n",
    "    --eval-freq 100000 \\\n",
    "    --eval-episodes 1 \\\n",
    "    --eval-env-kwargs frameskip:1 repeat_action_probability:0 \\\n",
    "    --save-freq 1000000 \\\n",
    "    --vec-env=subproc \\\n",
    "    --log-interval=10 \\\n",
    "    --device=cpu \\\n",
    "    --progress"
   ]
  },
  {
   "cell_type": "code",
   "execution_count": null,
   "id": "2a3189ed-9076-4694-bc7e-564064ff61b4",
   "metadata": {},
   "outputs": [],
   "source": [
    "!pip install 'gymnasium[other]'"
   ]
  },
  {
   "cell_type": "code",
   "execution_count": null,
   "id": "0e553675-b097-4708-b24f-09e908a361b4",
   "metadata": {},
   "outputs": [],
   "source": [
    "!python -m rl_zoo3.record_video \\\n",
    "    --algo ppo \\\n",
    "    --env ALE/Breakout-v5 \\\n",
    "    --n-timesteps 5000 \\\n",
    "    --folder logs \\\n",
    "    --load-best \\\n",
    "    --exp-id 7"
   ]
  }
 ],
 "metadata": {
  "kernelspec": {
   "display_name": "Python 3 (ipykernel)",
   "language": "python",
   "name": "python3"
  },
  "language_info": {
   "codemirror_mode": {
    "name": "ipython",
    "version": 3
   },
   "file_extension": ".py",
   "mimetype": "text/x-python",
   "name": "python",
   "nbconvert_exporter": "python",
   "pygments_lexer": "ipython3",
   "version": "3.11.6"
  }
 },
 "nbformat": 4,
 "nbformat_minor": 5
}
