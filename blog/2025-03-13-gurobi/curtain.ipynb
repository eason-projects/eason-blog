{
 "cells": [
  {
   "cell_type": "code",
   "execution_count": 77,
   "id": "58ad76b5-9494-47fa-910a-471a2eceaa18",
   "metadata": {},
   "outputs": [],
   "source": [
    "import gurobipy as gp\n",
    "import math"
   ]
  },
  {
   "cell_type": "code",
   "execution_count": 78,
   "id": "3b762975-21b9-419d-936b-0d4b73c353fb",
   "metadata": {},
   "outputs": [],
   "source": [
    "m = gp.Model(\"Curtain\")"
   ]
  },
  {
   "cell_type": "code",
   "execution_count": 79,
   "id": "a7c69c60-09bf-4e0a-8ac5-d561323e86d6",
   "metadata": {},
   "outputs": [],
   "source": [
    "LENGTHS = [\n",
    "    352,\n",
    "    350,\n",
    "    276,\n",
    "    200,\n",
    "    0,\n",
    "]"
   ]
  },
  {
   "cell_type": "code",
   "execution_count": 80,
   "id": "65ba3bd5-cebe-4c18-b06c-de33da8d09aa",
   "metadata": {},
   "outputs": [],
   "source": [
    "TRACK_LENGTH = 140"
   ]
  },
  {
   "cell_type": "code",
   "execution_count": 81,
   "id": "a0e0f0a5-535d-4f3e-870e-8a9db5c913b5",
   "metadata": {},
   "outputs": [],
   "source": [
    "def calculate_max_track_count(lengths, track_length):\n",
    "    count = 0\n",
    "\n",
    "    for l in lengths:\n",
    "        count += math.ceil(l / track_length)\n",
    "\n",
    "    return count"
   ]
  },
  {
   "cell_type": "code",
   "execution_count": 82,
   "id": "38043a43-9a4c-4a0e-8aa6-e65101c5e2e7",
   "metadata": {},
   "outputs": [
    {
     "data": {
      "text/plain": [
       "10"
      ]
     },
     "execution_count": 82,
     "metadata": {},
     "output_type": "execute_result"
    }
   ],
   "source": [
    "MAX_TRACKS = calculate_max_track_count(LENGTHS, TRACK_LENGTH)\n",
    "MAX_TRACKS"
   ]
  },
  {
   "cell_type": "code",
   "execution_count": 83,
   "id": "860b040a-a416-4718-9ee4-49532d0eaed1",
   "metadata": {},
   "outputs": [
    {
     "name": "stdout",
     "output_type": "stream",
     "text": [
      "We have 4 windows need to install curtains, the track's length is 140.\n",
      "And the windows' lengths are 352,350,276,200. So how can we minimize the tracks' usage.\n",
      "We also know that we can cutting and combine tracks, but we want to minimize the cutting numbers as well as the usage of tracks.\n"
     ]
    }
   ],
   "source": [
    "print(\n",
    "    f\"We have {len(LENGTHS)-1} windows need to install curtains, the track's length is {TRACK_LENGTH}.\\n\" \\\n",
    "    f\"And the windows' lengths are {','.join([f'{i}' for i in LENGTHS[:-1]])}. So how can we minimize the tracks' usage.\\n\" \\\n",
    "    f\"We also know that we can cutting and combine tracks, but we want to minimize the cutting numbers as well as the usage of tracks.\"\n",
    ")\n"
   ]
  },
  {
   "cell_type": "code",
   "execution_count": 84,
   "id": "f9153369-f9ca-4984-ae5c-ceb78e0b2285",
   "metadata": {},
   "outputs": [],
   "source": [
    "x = m.addVars(MAX_TRACKS, len(LENGTHS), vtype=gp.GRB.INTEGER, name=\"x\")\n",
    "z = m.addVars(MAX_TRACKS, vtype=gp.GRB.BINARY, name=\"z\")\n",
    "\n",
    "m.update()"
   ]
  },
  {
   "cell_type": "code",
   "execution_count": 85,
   "id": "51181369-8d2c-40eb-8552-931a8287fb6d",
   "metadata": {},
   "outputs": [],
   "source": [
    "# Constraint 0: All values greater than 0\n",
    "for l in range(len(LENGTHS)):\n",
    "    for t in range(MAX_TRACKS):\n",
    "        m.addConstr(x[t, l] >= 0, \"greater_than_0\")"
   ]
  },
  {
   "cell_type": "code",
   "execution_count": 86,
   "id": "3715f639-9128-4f44-afbe-ff7764e705d1",
   "metadata": {},
   "outputs": [],
   "source": [
    "# Constraint 1: Curtain should have enough length\n",
    "for i, l in enumerate(LENGTHS[:-1]):\n",
    "    m.addConstr(sum(x[t, i] * z[t] for t in range(MAX_TRACKS)) == l, name=\"curtain_should_have_enough_length\")"
   ]
  },
  {
   "cell_type": "code",
   "execution_count": 87,
   "id": "78c78781-7607-4bcb-84c4-84f64ca82dd5",
   "metadata": {},
   "outputs": [],
   "source": [
    "# Constraint 2: Track should be full length\n",
    "\n",
    "for t in range(MAX_TRACKS):\n",
    "    m.addConstr(sum(x[t, l] for l in range(len(LENGTHS))) == TRACK_LENGTH, name=\"track_should_be_full_length\")"
   ]
  },
  {
   "cell_type": "code",
   "execution_count": 88,
   "id": "e4b2ee6d-030d-410a-a3fa-ba92ec04eaa7",
   "metadata": {},
   "outputs": [],
   "source": [
    "# Objectives\n",
    "m.setObjectiveN(sum(z[t] for t in range(MAX_TRACKS)), index=0)\n",
    "m.setObjectiveN(sum(x[t, l] for t in range(MAX_TRACKS) for l in range(len(LENGTHS[:-1]))), index=1)"
   ]
  },
  {
   "cell_type": "code",
   "execution_count": 89,
   "id": "e5d9e13b-f1db-443d-8f00-de662b3883d5",
   "metadata": {},
   "outputs": [
    {
     "name": "stdout",
     "output_type": "stream",
     "text": [
      "Gurobi Optimizer version 12.0.1 build v12.0.1rc0 (linux64 - \"Debian GNU/Linux 11 (bullseye)\")\n",
      "\n",
      "CPU model: Intel(R) Core(TM) i7-7820HQ CPU @ 2.90GHz, instruction set [SSE2|AVX|AVX2]\n",
      "Thread count: 8 physical cores, 8 logical processors, using up to 8 threads\n",
      "\n",
      "Optimize a model with 60 rows, 60 columns and 100 nonzeros\n",
      "Model fingerprint: 0x9dde4786\n",
      "Model has 4 quadratic constraints\n",
      "Variable types: 0 continuous, 60 integer (10 binary)\n",
      "Coefficient statistics:\n",
      "  Matrix range     [1e+00, 1e+00]\n",
      "  QMatrix range    [1e+00, 1e+00]\n",
      "  Objective range  [1e+00, 1e+00]\n",
      "  Bounds range     [1e+00, 1e+00]\n",
      "  RHS range        [1e+02, 1e+02]\n",
      "  QRHS range       [2e+02, 4e+02]\n",
      "\n",
      "---------------------------------------------------------------------------\n",
      "Multi-objectives: starting optimization with 2 objectives (1 combined)...\n",
      "---------------------------------------------------------------------------\n",
      "\n",
      "Multi-objectives: optimize objective 1 (weighted) ...\n",
      "---------------------------------------------------------------------------\n",
      "\n",
      "Optimize a model with 60 rows, 60 columns and 100 nonzeros\n",
      "Model fingerprint: 0x4fb48e07\n",
      "Model has 4 quadratic constraints\n",
      "Variable types: 0 continuous, 60 integer (10 binary)\n",
      "Coefficient statistics:\n",
      "  Matrix range     [1e+00, 1e+00]\n",
      "  QMatrix range    [1e+00, 1e+00]\n",
      "  Objective range  [1e+00, 1e+00]\n",
      "  Bounds range     [1e+00, 1e+00]\n",
      "  RHS range        [1e+02, 1e+02]\n",
      "  QRHS range       [2e+02, 4e+02]\n",
      "Presolve removed 50 rows and 10 columns\n",
      "Presolve time: 0.00s\n",
      "Presolved: 134 rows, 90 columns, 360 nonzeros\n",
      "Variable types: 0 continuous, 90 integer (10 binary)\n",
      "Found heuristic solution: objective 1187.0000000\n",
      "\n",
      "Root relaxation: cutoff, 26 iterations, 0.00 seconds (0.00 work units)\n",
      "\n",
      "    Nodes    |    Current Node    |     Objective Bounds      |     Work\n",
      " Expl Unexpl |  Obj  Depth IntInf | Incumbent    BestBd   Gap | It/Node Time\n",
      "\n",
      "     0     0     cutoff    0      1187.00000 1187.00000  0.00%     -    0s\n",
      "\n",
      "Explored 1 nodes (26 simplex iterations) in 0.08 seconds (0.00 work units)\n",
      "Thread count was 8 (of 8 available processors)\n",
      "\n",
      "Solution count 1: 1187 \n",
      "\n",
      "Optimal solution found (tolerance 1.00e-04)\n",
      "Best objective 1.187000000000e+03, best bound 1.187000000000e+03, gap 0.0000%\n",
      "\n",
      "---------------------------------------------------------------------------\n",
      "Multi-objectives: solved in 0.09 seconds (0.00 work units), solution count 1\n",
      "\n"
     ]
    }
   ],
   "source": [
    "m.optimize()"
   ]
  },
  {
   "cell_type": "code",
   "execution_count": 90,
   "id": "a645a528-f518-4aeb-9b0e-8bcfa188100b",
   "metadata": {},
   "outputs": [
    {
     "name": "stdout",
     "output_type": "stream",
     "text": [
      "Track 0 for Curtain 2, with length: 80.0\n",
      "Track 0 for Curtain 3, with length: 60.0\n",
      "Track 1 for Curtain 2, with length: 140.0\n",
      "Track 2 for Curtain 1, with length: 84.0\n",
      "Track 2 for Curtain 2, with length: 56.0\n",
      "Track 3 for Curtain 1, with length: 140.0\n",
      "Track 4 for Curtain 0, with length: 14.0\n",
      "Track 4 for Curtain 1, with length: 126.0\n",
      "Track 5 for Curtain 0, with length: 140.0\n",
      "Track 6 for Curtain 0, with length: 140.0\n",
      "Track 7 for Curtain 0, with length: 58.0\n",
      "Track 7 for Curtain 4, with length: 82.0\n",
      "Track 8 for Curtain 4, with length: 140.0\n",
      "Track 9 for Curtain 3, with length: 140.0\n"
     ]
    }
   ],
   "source": [
    "for t in range(MAX_TRACKS):\n",
    "    for l in range(len(LENGTHS)):\n",
    "        if x[t, l].X > 0:\n",
    "            print(f\"Track {t} for Curtain {l}, with length: {x[t, l].X}\")"
   ]
  },
  {
   "cell_type": "code",
   "execution_count": 91,
   "id": "4fe25759-21f8-4030-924f-789554e19269",
   "metadata": {},
   "outputs": [
    {
     "name": "stdout",
     "output_type": "stream",
     "text": [
      "Curtain 0 should have length: 352\n",
      "track 4: 14.0 track 5: 140.0 track 6: 140.0 track 7: 58.0  => 352.0\n",
      "--------------------------------\n",
      "Curtain 1 should have length: 350\n",
      "track 2: 84.0 track 3: 140.0 track 4: 126.0  => 350.0\n",
      "--------------------------------\n",
      "Curtain 2 should have length: 276\n",
      "track 0: 80.0 track 1: 140.0 track 2: 56.0  => 276.0\n",
      "--------------------------------\n",
      "Curtain 3 should have length: 200\n",
      "track 0: 60.0 track 9: 140.0  => 200.0\n",
      "--------------------------------\n",
      "Curtain 4 should have length: 0\n",
      "track 7: 82.0 track 8: 140.0  => 222.0\n",
      "--------------------------------\n"
     ]
    }
   ],
   "source": [
    "for l in range(len(LENGTHS)):\n",
    "    length = LENGTHS[l]\n",
    "    print(f\"Curtain {l} should have length: {length}\")\n",
    "\n",
    "    sum_length = 0\n",
    "    for t in range(MAX_TRACKS):\n",
    "        if x[t, l].X > 0:\n",
    "            sum_length += x[t, l].X\n",
    "            print(f\"track {t}: {x[t, l].X}\", end=\" \")\n",
    "    print(f\" => {sum_length}\", end=\"\")\n",
    "\n",
    "    print(\"\")\n",
    "    print(\"-\" * 32)"
   ]
  },
  {
   "cell_type": "code",
   "execution_count": null,
   "id": "9a866b7d-f0ba-42f4-9654-af08cb92bb72",
   "metadata": {},
   "outputs": [],
   "source": []
  },
  {
   "cell_type": "code",
   "execution_count": null,
   "id": "a887e220-3ac5-4e52-8383-bbc952aa5260",
   "metadata": {},
   "outputs": [],
   "source": []
  },
  {
   "cell_type": "code",
   "execution_count": null,
   "id": "b11a48c4-8d7d-4945-9c7f-f3c6ba929f3e",
   "metadata": {},
   "outputs": [],
   "source": []
  },
  {
   "cell_type": "code",
   "execution_count": null,
   "id": "c0892a01-1295-477b-ad02-5ba742ce652a",
   "metadata": {},
   "outputs": [],
   "source": []
  },
  {
   "cell_type": "code",
   "execution_count": null,
   "id": "717fa643-b476-4866-b543-ca9562cd73ce",
   "metadata": {},
   "outputs": [],
   "source": []
  },
  {
   "cell_type": "code",
   "execution_count": null,
   "id": "256b161b-e879-4478-bfb3-e498e4a3b534",
   "metadata": {},
   "outputs": [],
   "source": []
  },
  {
   "cell_type": "code",
   "execution_count": null,
   "id": "ee343611-ca3b-4c29-8138-d4afebb263d8",
   "metadata": {},
   "outputs": [],
   "source": []
  },
  {
   "cell_type": "code",
   "execution_count": null,
   "id": "4fa558bf-cbf1-4f21-acc3-4bd7c1f81ed3",
   "metadata": {},
   "outputs": [],
   "source": []
  },
  {
   "cell_type": "code",
   "execution_count": null,
   "id": "2f6a532f-f043-45e5-a66a-47d0c1fb0522",
   "metadata": {},
   "outputs": [],
   "source": []
  },
  {
   "cell_type": "code",
   "execution_count": null,
   "id": "e5a426df-ddc8-4a3b-9585-51fdf12dcb74",
   "metadata": {},
   "outputs": [],
   "source": []
  },
  {
   "cell_type": "code",
   "execution_count": null,
   "id": "e0b278db-9967-43ee-8803-ff2fdd5cded7",
   "metadata": {},
   "outputs": [],
   "source": []
  },
  {
   "cell_type": "code",
   "execution_count": null,
   "id": "4f5861c0-494b-4f05-9314-0c9de4440312",
   "metadata": {},
   "outputs": [],
   "source": []
  }
 ],
 "metadata": {
  "kernelspec": {
   "display_name": "Python 3 (ipykernel)",
   "language": "python",
   "name": "python3"
  },
  "language_info": {
   "codemirror_mode": {
    "name": "ipython",
    "version": 3
   },
   "file_extension": ".py",
   "mimetype": "text/x-python",
   "name": "python",
   "nbconvert_exporter": "python",
   "pygments_lexer": "ipython3",
   "version": "3.10.16"
  }
 },
 "nbformat": 4,
 "nbformat_minor": 5
}
