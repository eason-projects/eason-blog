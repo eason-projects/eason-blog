{
 "cells": [
  {
   "cell_type": "code",
   "execution_count": 1,
   "id": "58ad76b5-9494-47fa-910a-471a2eceaa18",
   "metadata": {},
   "outputs": [],
   "source": [
    "import gurobipy as gp\n",
    "import math"
   ]
  },
  {
   "cell_type": "code",
   "execution_count": 2,
   "id": "3b762975-21b9-419d-936b-0d4b73c353fb",
   "metadata": {},
   "outputs": [
    {
     "name": "stdout",
     "output_type": "stream",
     "text": [
      "Restricted license - for non-production use only - expires 2026-11-23\n"
     ]
    }
   ],
   "source": [
    "m = gp.Model(\"Curtain\")"
   ]
  },
  {
   "cell_type": "code",
   "execution_count": 3,
   "id": "a7c69c60-09bf-4e0a-8ac5-d561323e86d6",
   "metadata": {},
   "outputs": [],
   "source": [
    "LENGTHS = [\n",
    "    352,\n",
    "    220,\n",
    "    276,\n",
    "    276,\n",
    "    250,\n",
    "    250,\n",
    "]"
   ]
  },
  {
   "cell_type": "code",
   "execution_count": 4,
   "id": "65ba3bd5-cebe-4c18-b06c-de33da8d09aa",
   "metadata": {},
   "outputs": [],
   "source": [
    "TRACK_LENGTH = 140"
   ]
  },
  {
   "cell_type": "code",
   "execution_count": 5,
   "id": "a0e0f0a5-535d-4f3e-870e-8a9db5c913b5",
   "metadata": {},
   "outputs": [],
   "source": [
    "def calculate_max_track_count(lengths, track_length):\n",
    "    count = 0\n",
    "\n",
    "    for l in lengths:\n",
    "        count += math.ceil(l / track_length)\n",
    "\n",
    "    return count"
   ]
  },
  {
   "cell_type": "code",
   "execution_count": 6,
   "id": "38043a43-9a4c-4a0e-8aa6-e65101c5e2e7",
   "metadata": {},
   "outputs": [
    {
     "data": {
      "text/plain": [
       "13"
      ]
     },
     "execution_count": 6,
     "metadata": {},
     "output_type": "execute_result"
    }
   ],
   "source": [
    "MAX_TRACKS = calculate_max_track_count(LENGTHS, TRACK_LENGTH)\n",
    "MAX_TRACKS"
   ]
  },
  {
   "cell_type": "code",
   "execution_count": 7,
   "id": "860b040a-a416-4718-9ee4-49532d0eaed1",
   "metadata": {},
   "outputs": [
    {
     "name": "stdout",
     "output_type": "stream",
     "text": [
      "We have 6 windows need to install curtains, the track's length is 140.\n",
      "And the windows' lengths are 352,220,276,276,250,250. So how can we minimize the tracks' usage.\n",
      "We also know that we can cutting and combine tracks, but we want to minimize the cutting numbers as well as the usage of tracks.\n"
     ]
    }
   ],
   "source": [
    "print(\n",
    "    f\"We have {len(LENGTHS)} windows need to install curtains, the track's length is {TRACK_LENGTH}.\\n\" \\\n",
    "    f\"And the windows' lengths are {','.join([f'{i}' for i in LENGTHS])}. So how can we minimize the tracks' usage.\\n\" \\\n",
    "    f\"We also know that we can cutting and combine tracks, but we want to minimize the cutting numbers as well as the usage of tracks.\"\n",
    ")\n"
   ]
  },
  {
   "cell_type": "code",
   "execution_count": 8,
   "id": "f9153369-f9ca-4984-ae5c-ceb78e0b2285",
   "metadata": {},
   "outputs": [],
   "source": [
    "x = m.addVars(MAX_TRACKS, len(LENGTHS), vtype=gp.GRB.INTEGER, name=\"x\")\n",
    "y = m.addVars(MAX_TRACKS, len(LENGTHS), vtype=gp.GRB.BINARY, name=\"y\")\n",
    "z = m.addVars(MAX_TRACKS, vtype=gp.GRB.BINARY, name=\"z\")\n",
    "w = m.addVars(MAX_TRACKS, vtype=gp.GRB.BINARY, name=\"w\")\n",
    "\n",
    "m.update()"
   ]
  },
  {
   "cell_type": "code",
   "execution_count": 9,
   "id": "51181369-8d2c-40eb-8552-931a8287fb6d",
   "metadata": {},
   "outputs": [],
   "source": [
    "# Constraint 0: All values greater than 0\n",
    "for l in range(len(LENGTHS)):\n",
    "    for t in range(MAX_TRACKS):\n",
    "        m.addConstr(x[t, l] >= 0, f\"non_negative_{t}_{l}\")\n",
    "        m.addConstr(x[t, l] <= TRACK_LENGTH * y[t, l], f\"link_x_to_y_{t}_{l}\")\n",
    "        m.addConstr(x[t, l] >= y[t, l], f\"link_y_to_x_{t}_{l}\")"
   ]
  },
  {
   "cell_type": "code",
   "execution_count": 10,
   "id": "3715f639-9128-4f44-afbe-ff7764e705d1",
   "metadata": {},
   "outputs": [],
   "source": [
    "# Constraint 1: Curtain should have enough length\n",
    "for i, l in enumerate(LENGTHS):\n",
    "    m.addConstr(sum(x[t, i] for t in range(MAX_TRACKS)) == l, name=f\"curtain_{i}_length\")"
   ]
  },
  {
   "cell_type": "code",
   "execution_count": 11,
   "id": "78c78781-7607-4bcb-84c4-84f64ca82dd5",
   "metadata": {},
   "outputs": [],
   "source": [
    "# Constraint 2: Track should be full length\n",
    "\n",
    "for t in range(MAX_TRACKS):\n",
    "    m.addConstr(sum(x[t, l] for l in range(len(LENGTHS))) <= TRACK_LENGTH * z[t], name=f\"track_{t}_capacity\")\n",
    "\n",
    "\n",
    "\n",
    "\n",
    "    m.addConstr(sum(x[t, l] for l in range(len(LENGTHS))) <= TRACK_LENGTH * w[t] + (TRACK_LENGTH - 1) * (1 - w[t]), f\"track_{t}full_upper\")\n",
    "    m.addConstr(sum(x[t, l] for l in range(len(LENGTHS))) >= TRACK_LENGTH * w[t], name=f\"track_{t}_full_lower\")\n",
    "\n",
    "    m.addConstr(w[t] <= z[t], f\"track_{t}_usage_link\")\n",
    "\n",
    "\n",
    "\n",
    "\n",
    "\n"
   ]
  },
  {
   "cell_type": "code",
   "execution_count": 12,
   "id": "e4b2ee6d-030d-410a-a3fa-ba92ec04eaa7",
   "metadata": {},
   "outputs": [],
   "source": [
    "# Objective 1: Minimize tracks\n",
    "m.setObjectiveN(sum(z[t] for t in range(MAX_TRACKS)), index=0, priority=20)\n"
   ]
  },
  {
   "cell_type": "code",
   "execution_count": 13,
   "id": "93ba2e11",
   "metadata": {},
   "outputs": [],
   "source": [
    "# Objective 2: Minimize comibination\n",
    "\n",
    "m.setObjectiveN(sum(y[t, l] for t in range(MAX_TRACKS) for l in range(len(LENGTHS))), index=1, priority=10)"
   ]
  },
  {
   "cell_type": "code",
   "execution_count": 14,
   "id": "7a7e95ea",
   "metadata": {},
   "outputs": [],
   "source": [
    "# Objective 3: Minimize cuts\n",
    "cuts = m.addVars(MAX_TRACKS, vtype=gp.GRB.INTEGER, name=\"custs\")\n",
    "\n",
    "for t in range(MAX_TRACKS):\n",
    "    m.addConstr(cuts[t] == sum(y[t, l] for l in range(len(LENGTHS))) - z[t] + z[t] - w[t], f\"cut_count_{t}\")\n",
    "    m.addConstr(cuts[t] >= 0, f\"cut_count_non_negative_{t}\")\n",
    "\n",
    "m.setObjectiveN(sum(cuts[t] for t in range(MAX_TRACKS)), index=2, priority=5)"
   ]
  },
  {
   "cell_type": "code",
   "execution_count": 15,
   "id": "e5d9e13b-f1db-443d-8f00-de662b3883d5",
   "metadata": {},
   "outputs": [
    {
     "name": "stdout",
     "output_type": "stream",
     "text": [
      "Gurobi Optimizer version 12.0.1 build v12.0.1rc0 (armlinux64 - \"Debian GNU/Linux 11 (bullseye)\")\n",
      "\n",
      "CPU model: ARM64\n",
      "Thread count: 12 physical cores, 12 logical processors, using up to 12 threads\n",
      "\n",
      "Optimize a model with 318 rows, 195 columns and 884 nonzeros\n",
      "Model fingerprint: 0xd247e475\n",
      "Variable types: 0 continuous, 195 integer (104 binary)\n",
      "Coefficient statistics:\n",
      "  Matrix range     [1e+00, 1e+02]\n",
      "  Objective range  [1e+00, 1e+00]\n",
      "  Bounds range     [1e+00, 1e+00]\n",
      "  RHS range        [1e+02, 4e+02]\n",
      "\n",
      "---------------------------------------------------------------------------\n",
      "Multi-objectives: starting optimization with 3 objectives... \n",
      "---------------------------------------------------------------------------\n",
      "\n",
      "Multi-objectives: applying initial presolve...\n",
      "---------------------------------------------------------------------------\n",
      "\n",
      "Presolve removed 91 rows and 0 columns\n",
      "Presolve time: 0.00s\n",
      "Presolved: 227 rows, 195 columns, 793 nonzeros\n",
      "\n",
      "Multi-objectives: optimize objective 1 () ...\n",
      "---------------------------------------------------------------------------\n",
      "\n",
      "Found heuristic solution: objective 12.0000000\n",
      "Presolve removed 0 rows and 13 columns\n",
      "Presolve time: 0.00s\n",
      "Presolved: 227 rows, 182 columns, 780 nonzeros\n",
      "Variable types: 0 continuous, 182 integer (104 binary)\n",
      "\n",
      "Root relaxation: cutoff, 125 iterations, 0.00 seconds (0.00 work units)\n",
      "\n",
      "    Nodes    |    Current Node    |     Objective Bounds      |     Work\n",
      " Expl Unexpl |  Obj  Depth IntInf | Incumbent    BestBd   Gap | It/Node Time\n",
      "\n",
      "     0     0     cutoff    0        12.00000   12.00000  0.00%     -    0s\n",
      "\n",
      "Explored 1 nodes (125 simplex iterations) in 0.01 seconds (0.00 work units)\n",
      "Thread count was 12 (of 12 available processors)\n",
      "\n",
      "Solution count 1: 12 \n",
      "\n",
      "Optimal solution found (tolerance 1.00e-04)\n",
      "Best objective 1.200000000000e+01, best bound 1.200000000000e+01, gap 0.0000%\n",
      "---------------------------------------------------------------------------\n",
      "\n",
      "Multi-objectives: optimize objective 2 () ...\n",
      "---------------------------------------------------------------------------\n",
      "\n",
      "\n",
      "Loaded user MIP start with objective 18\n",
      "\n",
      "Presolve removed 0 rows and 13 columns\n",
      "Presolve time: 0.00s\n",
      "Presolved: 228 rows, 182 columns, 793 nonzeros\n",
      "Variable types: 0 continuous, 182 integer (104 binary)\n",
      "\n",
      "Root relaxation: objective 1.160000e+01, 171 iterations, 0.00 seconds (0.00 work units)\n",
      "\n",
      "    Nodes    |    Current Node    |     Objective Bounds      |     Work\n",
      " Expl Unexpl |  Obj  Depth IntInf | Incumbent    BestBd   Gap | It/Node Time\n",
      "\n",
      "     0     0   11.60000    0   10   18.00000   11.60000  35.6%     -    0s\n",
      "H    0     0                      16.0000000   11.60000  27.5%     -    0s\n",
      "H    0     0                      15.0000000   11.60000  22.7%     -    0s\n",
      "     0     0   12.30000    0   23   15.00000   12.30000  18.0%     -    0s\n",
      "     0     0   13.00000    0   31   15.00000   13.00000  13.3%     -    0s\n",
      "H    0     0                      14.0000000   13.00000  7.14%     -    0s\n",
      "     0     0   13.00000    0   21   14.00000   13.00000  7.14%     -    0s\n",
      "     0     0   13.00000    0   17   14.00000   13.00000  7.14%     -    0s\n",
      "     0     0   13.00000    0   28   14.00000   13.00000  7.14%     -    0s\n",
      "     0     0   13.00000    0   23   14.00000   13.00000  7.14%     -    0s\n",
      "     0     0   13.00000    0    2   14.00000   13.00000  7.14%     -    0s\n",
      "     0     0   13.00000    0    2   14.00000   13.00000  7.14%     -    0s\n",
      "     0     0   13.00000    0    4   14.00000   13.00000  7.14%     -    0s\n",
      "     0     0   13.00000    0    4   14.00000   13.00000  7.14%     -    0s\n",
      "     0     2   13.00000    0    4   14.00000   13.00000  7.14%     -    0s\n",
      "\n",
      "Cutting planes:\n",
      "  Learned: 1\n",
      "  Gomory: 2\n",
      "  Cover: 5\n",
      "  Projected implied bound: 5\n",
      "  MIR: 9\n",
      "  StrongCG: 1\n",
      "  Flow cover: 22\n",
      "  Zero half: 1\n",
      "  Relax-and-lift: 1\n",
      "\n",
      "Explored 51 nodes (3909 simplex iterations) in 0.26 seconds (0.17 work units)\n",
      "Thread count was 12 (of 12 available processors)\n",
      "\n",
      "Solution count 5: 14 15 15 ... 18\n",
      "\n",
      "Optimal solution found (tolerance 1.00e-04)\n",
      "Best objective 1.400000000000e+01, best bound 1.400000000000e+01, gap 0.0000%\n",
      "---------------------------------------------------------------------------\n",
      "\n",
      "Multi-objectives: optimize objective 3 () ...\n",
      "---------------------------------------------------------------------------\n",
      "\n",
      "\n",
      "Loaded user MIP start with objective 7\n",
      "\n",
      "Presolve removed 0 rows and 13 columns\n",
      "Presolve time: 0.00s\n",
      "Presolved: 229 rows, 182 columns, 871 nonzeros\n",
      "Variable types: 0 continuous, 182 integer (104 binary)\n",
      "\n",
      "Root relaxation: objective 0.000000e+00, 153 iterations, 0.00 seconds (0.00 work units)\n",
      "\n",
      "    Nodes    |    Current Node    |     Objective Bounds      |     Work\n",
      " Expl Unexpl |  Obj  Depth IntInf | Incumbent    BestBd   Gap | It/Node Time\n",
      "\n",
      "     0     0    0.00000    0   11    7.00000    0.00000   100%     -    0s\n",
      "H    0     0                       6.0000000    0.00000   100%     -    0s\n",
      "     0     0    1.40000    0   38    6.00000    1.40000  76.7%     -    0s\n",
      "     0     0    1.40000    0   18    6.00000    1.40000  76.7%     -    0s\n",
      "     0     0    1.40000    0   28    6.00000    1.40000  76.7%     -    0s\n",
      "     0     0    1.40000    0   15    6.00000    1.40000  76.7%     -    0s\n",
      "     0     0    1.40000    0   18    6.00000    1.40000  76.7%     -    0s\n",
      "     0     0    1.40000    0    7    6.00000    1.40000  76.7%     -    0s\n",
      "     0     0    1.40000    0   16    6.00000    1.40000  76.7%     -    0s\n",
      "     0     0    1.40000    0   24    6.00000    1.40000  76.7%     -    0s\n",
      "     0     0    1.40000    0    7    6.00000    1.40000  76.7%     -    0s\n",
      "     0     0    1.40000    0    7    6.00000    1.40000  76.7%     -    0s\n",
      "     0     2    1.40000    0    7    6.00000    1.40000  76.7%     -    0s\n",
      "\n",
      "Cutting planes:\n",
      "  Gomory: 9\n",
      "  Cover: 26\n",
      "  MIR: 41\n",
      "  Flow cover: 157\n",
      "  Inf proof: 6\n",
      "  Network: 1\n",
      "\n",
      "Explored 10561 nodes (226445 simplex iterations) in 1.91 seconds (1.77 work units)\n",
      "Thread count was 12 (of 12 available processors)\n",
      "\n",
      "Solution count 2: 6 7 \n",
      "\n",
      "Optimal solution found (tolerance 1.00e-04)\n",
      "Best objective 6.000000000000e+00, best bound 6.000000000000e+00, gap 0.0000%\n",
      "\n",
      "---------------------------------------------------------------------------\n",
      "Multi-objectives: solved in 1.91 seconds (1.77 work units), solution count 6\n",
      "\n"
     ]
    }
   ],
   "source": [
    "m.optimize()"
   ]
  },
  {
   "cell_type": "code",
   "execution_count": 16,
   "id": "a645a528-f518-4aeb-9b0e-8bcfa188100b",
   "metadata": {},
   "outputs": [
    {
     "name": "stdout",
     "output_type": "stream",
     "text": [
      "Track 0 for Curtain 4, with length: 140.0\n",
      "Track 1 for Curtain 2, with length: 140.0\n",
      "Track 2 for Curtain 0, with length: 140.0\n",
      "Track 3 for Curtain 3, with length: 140.0\n",
      "Track 4 for Curtain 5, with length: 140.0\n",
      "Track 5 for Curtain 3, with length: 136.0\n",
      "Track 6 for Curtain 2, with length: 136.0\n",
      "Track 8 for Curtain 0, with length: 72.0\n",
      "Track 8 for Curtain 5, with length: 68.0\n",
      "Track 9 for Curtain 4, with length: 110.0\n",
      "Track 10 for Curtain 0, with length: 140.0\n",
      "Track 11 for Curtain 1, with length: 80.0\n",
      "Track 11 for Curtain 5, with length: 42.0\n",
      "Track 12 for Curtain 1, with length: 140.0\n"
     ]
    }
   ],
   "source": [
    "for t in range(MAX_TRACKS):\n",
    "    for l in range(len(LENGTHS)):\n",
    "        if x[t, l].X > 0:\n",
    "            print(f\"Track {t} for Curtain {l}, with length: {x[t, l].X}\")"
   ]
  },
  {
   "cell_type": "code",
   "execution_count": 17,
   "id": "4fe25759-21f8-4030-924f-789554e19269",
   "metadata": {},
   "outputs": [
    {
     "name": "stdout",
     "output_type": "stream",
     "text": [
      "Curtain 0 should have length: 352\n",
      "track 2: 140.0 track 8: 72.0 track 10: 140.0  => 352.0\n",
      "--------------------------------\n",
      "Curtain 1 should have length: 220\n",
      "track 11: 80.0 track 12: 140.0  => 220.0\n",
      "--------------------------------\n",
      "Curtain 2 should have length: 276\n",
      "track 1: 140.0 track 6: 136.0  => 276.0\n",
      "--------------------------------\n",
      "Curtain 3 should have length: 276\n",
      "track 3: 140.0 track 5: 136.0  => 276.0\n",
      "--------------------------------\n",
      "Curtain 4 should have length: 250\n",
      "track 0: 140.0 track 9: 110.0  => 250.0\n",
      "--------------------------------\n",
      "Curtain 5 should have length: 250\n",
      "track 4: 140.0 track 8: 68.0 track 11: 42.0  => 250.0\n",
      "--------------------------------\n"
     ]
    }
   ],
   "source": [
    "for l in range(len(LENGTHS)):\n",
    "    length = LENGTHS[l]\n",
    "    print(f\"Curtain {l} should have length: {length}\")\n",
    "\n",
    "    sum_length = 0\n",
    "    for t in range(MAX_TRACKS):\n",
    "        if x[t, l].X > 0:\n",
    "            sum_length += x[t, l].X\n",
    "            print(f\"track {t}: {x[t, l].X}\", end=\" \")\n",
    "    print(f\" => {sum_length}\", end=\"\")\n",
    "\n",
    "    print(\"\")\n",
    "    print(\"-\" * 32)"
   ]
  },
  {
   "cell_type": "code",
   "execution_count": 18,
   "id": "9a866b7d-f0ba-42f4-9654-af08cb92bb72",
   "metadata": {},
   "outputs": [
    {
     "name": "stdout",
     "output_type": "stream",
     "text": [
      "\n",
      "轨道使用情况:\n",
      "轨道 0:\n",
      "  - 140.0 厘米给窗帘 4 [完整使用]\n",
      "轨道 1:\n",
      "  - 140.0 厘米给窗帘 2 [完整使用]\n",
      "轨道 2:\n",
      "  - 140.0 厘米给窗帘 0 [完整使用]\n",
      "轨道 3:\n",
      "  - 140.0 厘米给窗帘 3 [完整使用]\n",
      "轨道 4:\n",
      "  - 140.0 厘米给窗帘 5 [完整使用]\n",
      "轨道 5:\n",
      "  - 136.0 厘米给窗帘 3 [部分使用(136.0/140)]\n",
      "轨道 6:\n",
      "  - 136.0 厘米给窗帘 2 [部分使用(136.0/140)]\n",
      "轨道 8:\n",
      "  - 72.0 厘米给窗帘 0, 68.0 厘米给窗帘 5 [完整使用]\n",
      "轨道 9:\n",
      "  - 110.0 厘米给窗帘 4 [部分使用(110.0/140)]\n",
      "轨道 10:\n",
      "  - 140.0 厘米给窗帘 0 [完整使用]\n",
      "轨道 11:\n",
      "  - 80.0 厘米给窗帘 1, 42.0 厘米给窗帘 5 [部分使用(122.0/140)]\n",
      "轨道 12:\n",
      "  - 140.0 厘米给窗帘 1 [完整使用]\n",
      "\n",
      "窗帘分配详情:\n",
      "窗帘 0 (长度: 352 厘米):\n",
      "  - 从轨道 2 取 140.0 厘米\n",
      "  - 从轨道 8 取 72.0 厘米\n",
      "  - 从轨道 10 取 140.0 厘米\n",
      "  总计: 352.0 厘米\n",
      "窗帘 1 (长度: 220 厘米):\n",
      "  - 从轨道 11 取 80.0 厘米\n",
      "  - 从轨道 12 取 140.0 厘米\n",
      "  总计: 220.0 厘米\n",
      "窗帘 2 (长度: 276 厘米):\n",
      "  - 从轨道 1 取 140.0 厘米\n",
      "  - 从轨道 6 取 136.0 厘米\n",
      "  总计: 276.0 厘米\n",
      "窗帘 3 (长度: 276 厘米):\n",
      "  - 从轨道 3 取 140.0 厘米\n",
      "  - 从轨道 5 取 136.0 厘米\n",
      "  总计: 276.0 厘米\n",
      "窗帘 4 (长度: 250 厘米):\n",
      "  - 从轨道 0 取 140.0 厘米\n",
      "  - 从轨道 9 取 110.0 厘米\n",
      "  总计: 250.0 厘米\n",
      "窗帘 5 (长度: 250 厘米):\n",
      "  - 从轨道 4 取 140.0 厘米\n",
      "  - 从轨道 8 取 68.0 厘米\n",
      "  - 从轨道 11 取 42.0 厘米\n",
      "  总计: 250.0 厘米\n",
      "\n",
      "总结：使用了 12 个轨道\n",
      "其中：2 次跨窗帘切割\n",
      "\n",
      "总结：使用了 12 个轨道，需要总共 6 次切割\n",
      "其中：2 次跨窗帘切割，4 次因轨道未用完整长度的切割\n"
     ]
    }
   ],
   "source": [
    "\n",
    "# 打印结果：轨道使用情况\n",
    "print(\"\\n轨道使用情况:\")\n",
    "for t in range(MAX_TRACKS):\n",
    "    if z[t].X > 0.5:  # 如果轨道t被使用\n",
    "        print(f\"轨道 {t}:\")\n",
    "        segments = []\n",
    "        for l in range(len(LENGTHS)):\n",
    "            if x[t, l].X > 0:\n",
    "                segments.append(f\"{x[t, l].X} 厘米给窗帘 {l}\")\n",
    "        \n",
    "        total_length = sum(x[t, l].X for l in range(len(LENGTHS)))\n",
    "        usage_status = \"完整使用\" if w[t].X > 0.5 else f\"部分使用({total_length}/{TRACK_LENGTH})\"\n",
    "        \n",
    "        print(f\"  - {', '.join(segments)} [{usage_status}]\")\n",
    "\n",
    "# 打印每个窗帘的轨道分配明细\n",
    "print(\"\\n窗帘分配详情:\")\n",
    "for l in range(len(LENGTHS)):\n",
    "    print(f\"窗帘 {l} (长度: {LENGTHS[l]} 厘米):\")\n",
    "    total = 0\n",
    "    for t in range(MAX_TRACKS):\n",
    "        if x[t, l].X > 0:\n",
    "            print(f\"  - 从轨道 {t} 取 {x[t, l].X} 厘米\")\n",
    "            total += x[t, l].X\n",
    "    print(f\"  总计: {total} 厘米\")\n",
    "\n",
    "# 打印总结\n",
    "used_tracks = sum(1 for t in range(MAX_TRACKS) if z[t].X > 0.5)\n",
    "cross_curtain_cuts = sum(max(0, sum(1 for l in range(len(LENGTHS)) if y[t, l].X > 0.5) - 1) for t in range(MAX_TRACKS))\n",
    "\n",
    "print(f\"\\n总结：使用了 {used_tracks} 个轨道\") #，需要总共 {total_cuts} 次切割\")\n",
    "print(f\"其中：{int(cross_curtain_cuts)} 次跨窗帘切割\") #，{int(length_cuts)} 次因轨道未用完整长度的切割\")\n",
    "\n",
    "length_cuts = sum(1 for t in range(MAX_TRACKS) if z[t].X > 0.5 and w[t].X < 0.5)\n",
    "total_cuts = int(sum(cuts[t].X for t in range(MAX_TRACKS)))\n",
    "\n",
    "\n",
    "print(f\"\\n总结：使用了 {used_tracks} 个轨道，需要总共 {total_cuts} 次切割\")\n",
    "print(f\"其中：{int(cross_curtain_cuts)} 次跨窗帘切割，{int(length_cuts)} 次因轨道未用完整长度的切割\")"
   ]
  },
  {
   "cell_type": "code",
   "execution_count": 19,
   "id": "fcfbccda",
   "metadata": {},
   "outputs": [
    {
     "name": "stdout",
     "output_type": "stream",
     "text": [
      "track 0 is used 140.0 (full)\n",
      " - curtain 4: 140.0\n",
      "track 1 is used 140.0 (full)\n",
      " - curtain 2: 140.0\n",
      "track 2 is used 140.0 (full)\n",
      " - curtain 0: 140.0\n",
      "track 3 is used 140.0 (full)\n",
      " - curtain 3: 140.0\n",
      "track 4 is used 140.0 (full)\n",
      " - curtain 5: 140.0\n",
      "track 5 is used 136.0 (partily)\n",
      " - curtain 3: 136.0\n",
      "track 6 is used 136.0 (partily)\n",
      " - curtain 2: 136.0\n",
      "track 7 is used 0.0 (unused)\n",
      "track 8 is used 140.0 (full)\n",
      " - curtain 0: 72.0\n",
      " - curtain 5: 68.0\n",
      "track 9 is used 110.0 (partily)\n",
      " - curtain 4: 110.0\n",
      "track 10 is used 140.0 (full)\n",
      " - curtain 0: 140.0\n",
      "track 11 is used 122.0 (partily)\n",
      " - curtain 1: 80.0\n",
      " - curtain 5: 42.0\n",
      "track 12 is used 140.0 (full)\n",
      " - curtain 1: 140.0\n"
     ]
    }
   ],
   "source": [
    "for t in range(MAX_TRACKS):\n",
    "    used_length = sum(x[t, l].X for l in range(len(LENGTHS)))\n",
    "    is_used = z[t].X > 0.5\n",
    "    is_full_used = z[t].X > 0.5 and w[t].X > 0.5\n",
    "\n",
    "    print_out = f\"track {t} is used {used_length}\"\n",
    "    if is_used:\n",
    "        if is_full_used:\n",
    "            print_out += \" (full)\"\n",
    "        else:\n",
    "            print_out += \" (partily)\"\n",
    "\n",
    "        for l in range(len(LENGTHS)):\n",
    "            if y[t, l].X > 0.5:\n",
    "                print_out += f\"\\n - curtain {l}: {x[t, l].X}\"\n",
    "    else:\n",
    "        print_out += \" (unused)\"\n",
    "    print(print_out)\n"
   ]
  },
  {
   "cell_type": "code",
   "execution_count": 20,
   "id": "a887e220-3ac5-4e52-8383-bbc952aa5260",
   "metadata": {},
   "outputs": [
    {
     "name": "stdout",
     "output_type": "stream",
     "text": [
      "track 0 is used 1.0 and 1.0\n",
      "track 1 is used 1.0 and 1.0\n",
      "track 2 is used 1.0 and 1.0\n",
      "track 3 is used 1.0 and 1.0\n",
      "track 4 is used 1.0 and 1.0\n",
      "track 5 is used 1.0 and -0.0\n",
      "track 6 is used 1.0 and -0.0\n",
      "track 7 is used -0.0 and -0.0\n",
      "track 8 is used 1.0 and 1.0\n",
      "track 9 is used 1.0 and -0.0\n",
      "track 10 is used 1.0 and 1.0\n",
      "track 11 is used 1.0 and 0.0\n",
      "track 12 is used 1.0 and 1.0\n"
     ]
    }
   ],
   "source": [
    "for t in range(MAX_TRACKS):\n",
    "    print(f\"track {t} is used {z[t].X} and {w[t].X}\")"
   ]
  },
  {
   "cell_type": "code",
   "execution_count": null,
   "id": "b11a48c4-8d7d-4945-9c7f-f3c6ba929f3e",
   "metadata": {},
   "outputs": [],
   "source": []
  },
  {
   "cell_type": "code",
   "execution_count": 21,
   "id": "c0892a01-1295-477b-ad02-5ba742ce652a",
   "metadata": {},
   "outputs": [
    {
     "name": "stdout",
     "output_type": "stream",
     "text": [
      "Results saved to curtain_results.json\n"
     ]
    }
   ],
   "source": [
    "# Save optimization results to JSON\n",
    "import json\n",
    "\n",
    "result = {\n",
    "    \"track_length\": TRACK_LENGTH,\n",
    "    \"max_tracks\": MAX_TRACKS,\n",
    "    \"curtain_lengths\": LENGTHS,\n",
    "    \"track_allocations\": [],\n",
    "    \"stats\": {\n",
    "        \"used_tracks\": 0,\n",
    "        \"total_cuts\": 0\n",
    "    }\n",
    "}\n",
    "\n",
    "# Extract track allocations\n",
    "for t in range(MAX_TRACKS):\n",
    "    for l in range(len(LENGTHS)):\n",
    "        if x[t, l].X > 0:\n",
    "            result[\"track_allocations\"].append({\n",
    "                \"track_idx\": t,\n",
    "                \"curtain_idx\": l,\n",
    "                \"length\": int(x[t, l].X)\n",
    "            })\n",
    "\n",
    "# Calculate statistics\n",
    "used_tracks = sum(1 for t in range(MAX_TRACKS) if z[t].X > 0.5)\n",
    "total_cuts = sum(cuts[t].X for t in range(MAX_TRACKS))\n",
    "\n",
    "result[\"stats\"][\"used_tracks\"] = used_tracks\n",
    "result[\"stats\"][\"total_cuts\"] = total_cuts\n",
    "\n",
    "# Save to JSON file\n",
    "with open('curtain_results.json', 'w') as f:\n",
    "    json.dump(result, f, indent=2)\n",
    "\n",
    "print(f\"Results saved to curtain_results.json\")"
   ]
  },
  {
   "cell_type": "code",
   "execution_count": null,
   "id": "2f6a532f-f043-45e5-a66a-47d0c1fb0522",
   "metadata": {},
   "outputs": [],
   "source": []
  },
  {
   "cell_type": "code",
   "execution_count": null,
   "id": "e5a426df-ddc8-4a3b-9585-51fdf12dcb74",
   "metadata": {},
   "outputs": [],
   "source": []
  },
  {
   "cell_type": "code",
   "execution_count": null,
   "id": "e0b278db-9967-43ee-8803-ff2fdd5cded7",
   "metadata": {},
   "outputs": [],
   "source": []
  },
  {
   "cell_type": "code",
   "execution_count": null,
   "id": "4f5861c0-494b-4f05-9314-0c9de4440312",
   "metadata": {},
   "outputs": [],
   "source": []
  },
  {
   "cell_type": "code",
   "execution_count": null,
   "id": "f06cea31",
   "metadata": {},
   "outputs": [],
   "source": []
  },
  {
   "cell_type": "code",
   "execution_count": null,
   "id": "9cc2640c",
   "metadata": {},
   "outputs": [],
   "source": []
  },
  {
   "cell_type": "code",
   "execution_count": null,
   "id": "b4736cfa",
   "metadata": {},
   "outputs": [],
   "source": []
  },
  {
   "cell_type": "code",
   "execution_count": null,
   "id": "a21d14f3",
   "metadata": {},
   "outputs": [],
   "source": []
  },
  {
   "cell_type": "code",
   "execution_count": null,
   "id": "00058ac6",
   "metadata": {},
   "outputs": [],
   "source": []
  },
  {
   "cell_type": "code",
   "execution_count": null,
   "id": "82427cd8",
   "metadata": {},
   "outputs": [],
   "source": []
  }
 ],
 "metadata": {
  "kernelspec": {
   "display_name": "Python 3 (ipykernel)",
   "language": "python",
   "name": "python3"
  }
 },
 "nbformat": 4,
 "nbformat_minor": 5
}
